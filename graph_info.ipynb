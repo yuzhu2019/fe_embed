{
 "cells": [
  {
   "cell_type": "markdown",
   "metadata": {},
   "source": [
    "### Get the graph's information and statistics"
   ]
  },
  {
   "cell_type": "code",
   "execution_count": null,
   "metadata": {},
   "outputs": [],
   "source": [
    "import numpy as np\n",
    "import networkx as nx\n",
    "import graph\n",
    "\n",
    "graph_name = 'Cora'\n",
    "nx_G = graph.gen_graph(graph_name)"
   ]
  },
  {
   "cell_type": "markdown",
   "metadata": {},
   "source": [
    "#### check if the graph is connected, directed and weighted or not"
   ]
  },
  {
   "cell_type": "code",
   "execution_count": null,
   "metadata": {},
   "outputs": [],
   "source": [
    "assert nx.is_connected(nx_G) == True\n",
    "assert nx.is_directed(nx_G) == False\n",
    "A = np.array(nx.to_numpy_matrix(nx_G, weight='weight'))\n",
    "print('unweighted graph:', np.sum(A) == np.sum(A>0))"
   ]
  },
  {
   "cell_type": "markdown",
   "metadata": {},
   "source": [
    "#### check the node labels"
   ]
  },
  {
   "cell_type": "code",
   "execution_count": null,
   "metadata": {},
   "outputs": [],
   "source": [
    "labels, n_labels = graph.find_labels(nx_G, 'label')\n",
    "print('number of labels:', n_labels)"
   ]
  },
  {
   "cell_type": "markdown",
   "metadata": {},
   "source": [
    "#### check whether the graph is multi-label or not"
   ]
  },
  {
   "cell_type": "code",
   "execution_count": null,
   "metadata": {},
   "outputs": [],
   "source": [
    "nodes_labels = list(dict(nx_G.nodes(data='label')).values())\n",
    "nodes_labels_num = [len(nodes_labels[i]) for i in range(len(nodes_labels))]\n",
    "print(min(nodes_labels_num))\n",
    "print(max(nodes_labels_num))"
   ]
  },
  {
   "cell_type": "markdown",
   "metadata": {},
   "source": [
    "#### other information"
   ]
  },
  {
   "cell_type": "code",
   "execution_count": null,
   "metadata": {},
   "outputs": [],
   "source": [
    "print('number of nodes:', len(nx_G))\n",
    "print('number of edges:', nx.number_of_edges(nx_G))\n",
    "print('transitivity:', nx.transitivity(nx_G))\n",
    "print('average clustering:', nx.average_clustering(nx_G))"
   ]
  },
  {
   "cell_type": "code",
   "execution_count": null,
   "metadata": {},
   "outputs": [],
   "source": []
  }
 ],
 "metadata": {
  "kernelspec": {
   "display_name": "Python 3",
   "language": "python",
   "name": "python3"
  },
  "language_info": {
   "codemirror_mode": {
    "name": "ipython",
    "version": 3
   },
   "file_extension": ".py",
   "mimetype": "text/x-python",
   "name": "python",
   "nbconvert_exporter": "python",
   "pygments_lexer": "ipython3",
   "version": "3.7.6"
  }
 },
 "nbformat": 4,
 "nbformat_minor": 4
}
