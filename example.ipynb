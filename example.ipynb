{
 "cells": [
  {
   "cell_type": "code",
   "execution_count": null,
   "metadata": {},
   "outputs": [],
   "source": [
    "import numpy as np\n",
    "import networkx as nx\n",
    "import matplotlib.pyplot as plt\n",
    "\n",
    "from algorithms import gmf2"
   ]
  },
  {
   "cell_type": "code",
   "execution_count": null,
   "metadata": {},
   "outputs": [],
   "source": [
    "n = 25     # number of nodes\n",
    "p = 0.1    # edge probability\n",
    "dim = 8\n",
    "\n",
    "is_symmetric = False\n",
    "n_iters = 1000\n",
    "plot = True"
   ]
  },
  {
   "cell_type": "code",
   "execution_count": null,
   "metadata": {},
   "outputs": [],
   "source": [
    "nx_G = nx.erdos_renyi_graph(n, p, seed=0)\n",
    "S = np.array(nx.to_numpy_matrix(nx_G))\n",
    "for i in range(n):\n",
    "    for j in range(n):\n",
    "        if S[i,j] == 1:\n",
    "            S[i,j] = 5\n",
    "        else:\n",
    "            S[i,j] = -5"
   ]
  },
  {
   "cell_type": "code",
   "execution_count": null,
   "metadata": {},
   "outputs": [],
   "source": [
    "Nij_p_np = np.exp(S)\n",
    "Nij_n_np = np.ones((n, n))\n",
    "model = gmf2.GMF(Nij_p_np, Nij_n_np, embed_dim=dim, is_symmetric=is_symmetric, n_iters=n_iters, plot=plot)\n",
    "U1 = model.V.numpy()\n",
    "V1 = model.W.numpy()"
   ]
  },
  {
   "cell_type": "code",
   "execution_count": null,
   "metadata": {},
   "outputs": [],
   "source": [
    "u, s, vh = np.linalg.svd(S)\n",
    "u = u @ np.diag(s**0.5)\n",
    "vh = np.diag(s**0.5) @ vh\n",
    "v = vh.T\n",
    "U2 = u[:, :dim] \n",
    "V2 = v[:, :dim]"
   ]
  },
  {
   "cell_type": "code",
   "execution_count": null,
   "metadata": {},
   "outputs": [],
   "source": [
    "Nij_p_np = np.exp(S)\n",
    "Nij_n_np = np.ones((n, n))\n",
    "model = gmf2.GMF(Nij_p_np, Nij_n_np, embed_dim=5, is_symmetric=is_symmetric, n_iters=n_iters, plot=plot)\n",
    "U3 = model.V.numpy()\n",
    "V3 = model.W.numpy()"
   ]
  },
  {
   "cell_type": "code",
   "execution_count": null,
   "metadata": {},
   "outputs": [],
   "source": [
    "Nij_p_np = np.exp(S)\n",
    "Nij_n_np = np.ones((n, n))\n",
    "model = gmf2.GMF(Nij_p_np, Nij_n_np, embed_dim=15, is_symmetric=is_symmetric, n_iters=n_iters, plot=plot)\n",
    "U4 = model.V.numpy()\n",
    "V4 = model.W.numpy()"
   ]
  },
  {
   "cell_type": "code",
   "execution_count": null,
   "metadata": {},
   "outputs": [],
   "source": [
    "Nij_p_np = np.exp(S)\n",
    "Nij_n_np = np.ones((n, n))\n",
    "model = gmf2.GMF(Nij_p_np, Nij_n_np, embed_dim=25, is_symmetric=is_symmetric, n_iters=n_iters, plot=plot)\n",
    "U5 = model.V.numpy()\n",
    "V5 = model.W.numpy()"
   ]
  },
  {
   "cell_type": "code",
   "execution_count": null,
   "metadata": {},
   "outputs": [],
   "source": [
    "_min = -5\n",
    "_max = 5\n",
    "\n",
    "f, axes = plt.subplots(2, 3, sharey=True, figsize=(12, 12))\n",
    "\n",
    "im0 = axes[0,0].imshow(S, cmap=\"coolwarm\", vmin = _min, vmax = _max)\n",
    "axes[0,0].set_title(r\"Original\", fontsize=16)\n",
    "axes[0,0].xaxis.set_tick_params(labelsize=12)\n",
    "axes[0,0].yaxis.set_tick_params(labelsize=12)\n",
    "\n",
    "im1 = axes[0,1].imshow(U1 @ V1.T, cmap=\"coolwarm\", vmin = _min, vmax = _max)\n",
    "axes[0,1].set_title(r\"The proposed (d=8)\",  fontsize=16)\n",
    "axes[0,1].xaxis.set_tick_params(labelsize=12)\n",
    "axes[0,1].yaxis.set_tick_params(labelsize=12)\n",
    "\n",
    "im2 = axes[0,2].imshow(U2 @ V2.T, cmap=\"coolwarm\", vmin = _min, vmax = _max)\n",
    "axes[0,2].set_title(r\"Truncated SVD\",  fontsize=16)\n",
    "axes[0,2].xaxis.set_tick_params(labelsize=12)\n",
    "axes[0,2].yaxis.set_tick_params(labelsize=12)\n",
    "\n",
    "im3 = axes[1,0].imshow(U3 @ V3.T, cmap=\"coolwarm\", vmin = _min, vmax = _max)\n",
    "axes[1,0].set_title(r\"The proposed (d=5)\",  fontsize=16)\n",
    "axes[1,0].xaxis.set_tick_params(labelsize=12)\n",
    "axes[1,0].yaxis.set_tick_params(labelsize=12)\n",
    "\n",
    "im4 = axes[1,1].imshow(U4 @ V4.T, cmap=\"coolwarm\", vmin = _min, vmax = _max)\n",
    "axes[1,1].set_title(r\"The proposed (d=15)\",  fontsize=16)\n",
    "axes[1,1].xaxis.set_tick_params(labelsize=12)\n",
    "axes[1,1].yaxis.set_tick_params(labelsize=12)\n",
    "\n",
    "im5 = axes[1,2].imshow(U5 @ V5.T, cmap=\"coolwarm\", vmin = _min, vmax = _max)\n",
    "axes[1,2].set_title(r\"The proposed (d=25)\",  fontsize=16)\n",
    "axes[1,2].xaxis.set_tick_params(labelsize=12)\n",
    "axes[1,2].yaxis.set_tick_params(labelsize=12)\n",
    "\n",
    "ticks = [-5, -4, -3, -2, -1, 0, 1, 2, 3, 4, 5]\n",
    "cbar = f.colorbar(im0, ax=axes, orientation='horizontal', anchor=(0,2), aspect=32, ticks=ticks)\n",
    "cbar.ax.tick_params(labelsize=14)\n",
    "\n",
    "# plt.savefig('example.png')\n",
    "\n",
    "plt.show()"
   ]
  },
  {
   "cell_type": "code",
   "execution_count": null,
   "metadata": {},
   "outputs": [],
   "source": []
  }
 ],
 "metadata": {
  "kernelspec": {
   "display_name": "Python 3",
   "language": "python",
   "name": "python3"
  },
  "language_info": {
   "codemirror_mode": {
    "name": "ipython",
    "version": 3
   },
   "file_extension": ".py",
   "mimetype": "text/x-python",
   "name": "python",
   "nbconvert_exporter": "python",
   "pygments_lexer": "ipython3",
   "version": "3.7.6"
  }
 },
 "nbformat": 4,
 "nbformat_minor": 4
}
